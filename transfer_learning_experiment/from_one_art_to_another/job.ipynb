{
 "nbformat": 4,
 "nbformat_minor": 2,
 "metadata": {
  "language_info": {
   "name": "python",
   "codemirror_mode": {
    "name": "ipython",
    "version": 3
   },
   "version": "3.7.6-final"
  },
  "orig_nbformat": 2,
  "file_extension": ".py",
  "mimetype": "text/x-python",
  "name": "python",
  "npconvert_exporter": "python",
  "pygments_lexer": "ipython3",
  "version": 3,
  "kernelspec": {
   "name": "python3",
   "display_name": "Python 3"
  }
 },
 "cells": [
  {
   "cell_type": "code",
   "execution_count": 1,
   "metadata": {},
   "outputs": [],
   "source": [
    "tl_modes=(\"fine_tuning\" \"off_the_shelf\")\n",
    "dataset_name = \"test\" #The name of your dataset\n",
    "\n",
    "metadata_path=r\"metadata/example_metadata.csv\" #The path to your metadata file in .csv extension\n",
    "jpg_images_path=\"./figures/\" #The path to your images in *.jpg\n",
    "\n",
    "ANN=\"RijksVGG19\"\n",
    "\n",
    "results_path=\"./results/\" #The path where wou would like to store your results\n",
    "datasets_path=\"./datasets/\" #The path where the hdf5 files will be stored for the experiments\n",
    "\n",
    "tl_mode=\"off_the_shelf\" #Choose a pre-training mode from tl_modes"
   ]
  },
  {
   "cell_type": "code",
   "execution_count": 3,
   "metadata": {},
   "outputs": [
    {
     "name": "stdout",
     "output_type": "stream",
     "text": "Traceback (most recent call last):\n  File \"transfer_learning_experiment.py\", line 3, in <module>\n    from .RijksVGG19Net import RijksVGG19Net\nImportError: attempted relative import with no known parent package\n"
    }
   ],
   "source": []
  },
  {
   "cell_type": "code",
   "execution_count": 3,
   "metadata": {},
   "outputs": [],
   "source": [
    "\n",
    "dataset_name=\"test\" #The name of your dataset\n",
    "\n",
    "metadata_path=\"..\\..\\metadata\\data\\export_info_art_df.csv\" #The path to your metadata file in .csv extension\n",
    "jpg_images_path=\"..\\..\\metadata\\data\\jpg2\\\" #The path to your images in *.jpg\n",
    "\n",
    "results_path=\"..\\..\\metadata\\results\" #The path where wou would like to store your results\n",
    "datasets_path=\"..\\..\\metadata\\datasets\" #The path where the hdf5 files will be stored for the experiments\n",
    "\n",
    "tl_mode=\"off_the_shelf\" #Choose a pre-training mode from tl_modes\n",
    "\n"
   ]
  },
  {
   "cell_type": "code",
   "execution_count": 2,
   "metadata": {},
   "outputs": [],
   "source": [
    "\n",
    "!python transfer_learning_experiment.py --dataset_name $dataset_name --ANN \"RijksVGG19\" --metadata_path $metadata_path --jpg_images_path $jpg_images_path --results_path $results_path --datasets_path $datasets_path --tl_mode $tl_mode "
   ]
  },
  {
   "cell_type": "code",
   "execution_count": 4,
   "metadata": {},
   "outputs": [
    {
     "ename": "SyntaxError",
     "evalue": "invalid syntax (<ipython-input-4-0c29e1ed1790>, line 1)",
     "output_type": "error",
     "traceback": [
      "\u001b[1;36m  File \u001b[1;32m\"<ipython-input-4-0c29e1ed1790>\"\u001b[1;36m, line \u001b[1;32m1\u001b[0m\n\u001b[1;33m    python transfer_learning_experiment.py --dataset_name \"test\" --ANN \"RijksVGG19\" --metadata_path \"metadata\\data\\export_info_art_df.csv\" --jpg_images_path \"metadata\\data\\jpg2\" --results_path \"metadata\\results\" --datasets_path \"metadata\\datasets\" --tl_mode \"off_the_shelf\"\u001b[0m\n\u001b[1;37m                                      ^\u001b[0m\n\u001b[1;31mSyntaxError\u001b[0m\u001b[1;31m:\u001b[0m invalid syntax\n"
     ]
    }
   ],
   "source": [
    "#correct line of code to run -- make sure you are in directory 'from_one_art_to_another'\n",
    "python transfer_learning_experiment.py --dataset_name \"test\" --ANN \"RijksVGG19\" --metadata_path \"..\\..\\metadata\\labels\\export_info_art_df_run3.csv\" --jpg_images_path \"..\\..\\metadata\\data\\jpg2\\\" --results_path \"..\\..\\metadata\\results\" --datasets_path \"..\\..\\metadata\\datasets\" --tl_mode \"off_the_shelf\" "
   ]
  }
 ]
}