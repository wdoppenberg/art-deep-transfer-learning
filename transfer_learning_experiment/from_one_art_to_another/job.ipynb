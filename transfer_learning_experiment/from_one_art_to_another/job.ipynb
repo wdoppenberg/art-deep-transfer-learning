{
 "nbformat": 4,
 "nbformat_minor": 2,
 "metadata": {
  "language_info": {
   "name": "python",
   "codemirror_mode": {
    "name": "ipython",
    "version": 3
   },
   "version": "3.7.6-final"
  },
  "orig_nbformat": 2,
  "file_extension": ".py",
  "mimetype": "text/x-python",
  "name": "python",
  "npconvert_exporter": "python",
  "pygments_lexer": "ipython3",
  "version": 3,
  "kernelspec": {
   "name": "python37664bitenvvirtualenv110370432b884849a10de790394d86e5",
   "display_name": "Python 3.7.6 64-bit ('env': virtualenv)"
  }
 },
 "cells": [
  {
   "cell_type": "code",
   "execution_count": 1,
   "metadata": {},
   "outputs": [],
   "source": [
    "tl_modes=(\"fine_tuning\" \"off_the_shelf\")\n",
    "dataset_name = \"test\" #The name of your dataset\n",
    "\n",
    "metadata_path=r\"metadata/example_metadata.csv\" #The path to your metadata file in .csv extension\n",
    "jpg_images_path=\"./figures/\" #The path to your images in *.jpg\n",
    "\n",
    "ANN=\"RijksVGG19\"\n",
    "\n",
    "results_path=\"./results/\" #The path where wou would like to store your results\n",
    "datasets_path=\"./datasets/\" #The path where the hdf5 files will be stored for the experiments\n",
    "\n",
    "tl_mode=\"off_the_shelf\" #Choose a pre-training mode from tl_modes"
   ]
  },
  {
   "cell_type": "code",
   "execution_count": 3,
   "metadata": {},
   "outputs": [
    {
     "name": "stdout",
     "output_type": "stream",
     "text": "Traceback (most recent call last):\n  File \"transfer_learning_experiment.py\", line 3, in <module>\n    from .RijksVGG19Net import RijksVGG19Net\nImportError: attempted relative import with no known parent package\n"
    }
   ],
   "source": [
    "!python transfer_learning_experiment.py --dataset_name $dataset_name --ANN \"RijksVGG19\" --metadata_path $metadata_path --jpg_images_path $jpg_images_path --results_path $results_path --datasets_path $datasets_path --tl_mode $tl_mode "
   ]
  },
  {
   "cell_type": "code",
   "execution_count": null,
   "metadata": {},
   "outputs": [],
   "source": []
  }
 ]
}