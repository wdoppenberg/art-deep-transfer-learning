{
 "cells": [
  {
   "cell_type": "markdown",
   "metadata": {},
   "source": [
    "# Transfer Learning experiment"
   ]
  },
  {
   "cell_type": "markdown",
   "metadata": {},
   "source": [
    "## From one art to another"
   ]
  },
  {
   "cell_type": "code",
   "execution_count": 17,
   "metadata": {},
   "outputs": [],
   "source": [
    "tl_modes=(\"fine_tuning\" \"off_the_shelf\")\n",
    "dataset_name = \"test\" #The name of your dataset\n",
    "\n",
    "metadata_path=r\"metadata/example_metadata.csv\" #The path to your metadata file in .csv extension\n",
    "jpg_images_path=\"./figures/\" #The path to your images in *.jpg\n",
    "\n",
    "results_path=\"./results/\" #The path where wou would like to store your results\n",
    "datasets_path=\"./datasets/\" #The path where the hdf5 files will be stored for the experiments\n",
    "\n",
    "tl_mode=\"off_the_shelf\" #Choose a pre-training mode from tl_modes"
   ]
  },
  {
   "cell_type": "code",
   "execution_count": 20,
   "metadata": {},
   "outputs": [
    {
     "name": "stdout",
     "output_type": "stream",
     "text": [
      "Using TensorFlow backend.\n",
      "The splits are already there!\n"
     ]
    }
   ],
   "source": [
    "!python transfer_learning_experiment/from_one_art_to_another/transfer_learning_experiment.py --dataset_name $dataset_name --ANN \"RijksVGG19\" --metadata_path $metadata_path --jpg_images_path $jpg_images_path --results_path $results_path --datasets_path $datasets_path --tl_mode $tl_mode "
   ]
  },
  {
   "cell_type": "markdown",
   "metadata": {},
   "source": [
    "## Imagenet to art"
   ]
  },
  {
   "cell_type": "code",
   "execution_count": 19,
   "metadata": {},
   "outputs": [
    {
     "name": "stdout",
     "output_type": "stream",
     "text": [
      "Using TensorFlow backend.\n",
      "The splits are already there!\n"
     ]
    }
   ],
   "source": [
    "!python transfer_learning_experiment/imagenet_to_art/transfer_learning_experiment.py --dataset_name $dataset_name --ANN \"RijksVGG19\" --metadata_path $metadata_path --jpg_images_path $jpg_images_path --results_path $results_path --datasets_path $datasets_path --tl_mode $tl_mode "
   ]
  },
  {
   "cell_type": "code",
   "execution_count": null,
   "metadata": {},
   "outputs": [],
   "source": []
  }
 ],
 "metadata": {
  "kernelspec": {
   "display_name": "Python 3",
   "language": "python",
   "name": "python3"
  },
  "language_info": {
   "codemirror_mode": {
    "name": "ipython",
    "version": 3
   },
   "file_extension": ".py",
   "mimetype": "text/x-python",
   "name": "python",
   "nbconvert_exporter": "python",
   "pygments_lexer": "ipython3",
   "version": "3.7.6"
  }
 },
 "nbformat": 4,
 "nbformat_minor": 4
}
