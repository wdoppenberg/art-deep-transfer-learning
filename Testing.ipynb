{
  "nbformat": 4,
  "nbformat_minor": 0,
  "metadata": {
    "colab": {
      "name": "Testing.ipynb",
      "provenance": [],
      "collapsed_sections": [],
      "include_colab_link": true
    },
    "kernelspec": {
      "name": "python3",
      "display_name": "Python 3"
    },
    "accelerator": "GPU",
    "widgets": {
      "application/vnd.jupyter.widget-state+json": {
        "2b631621febd4b9eba3a6408ffd5c9cc": {
          "model_module": "@jupyter-widgets/controls",
          "model_name": "HBoxModel",
          "state": {
            "_view_name": "HBoxView",
            "_dom_classes": [],
            "_model_name": "HBoxModel",
            "_view_module": "@jupyter-widgets/controls",
            "_model_module_version": "1.5.0",
            "_view_count": null,
            "_view_module_version": "1.5.0",
            "box_style": "",
            "layout": "IPY_MODEL_80b54b50fd3e4c97968bfd02b966a581",
            "_model_module": "@jupyter-widgets/controls",
            "children": [
              "IPY_MODEL_53a4df66452048bea12aab0b5fd7400b",
              "IPY_MODEL_0ca7638dcf364133af7eb13cdb2bf1d3"
            ]
          }
        },
        "80b54b50fd3e4c97968bfd02b966a581": {
          "model_module": "@jupyter-widgets/base",
          "model_name": "LayoutModel",
          "state": {
            "_view_name": "LayoutView",
            "grid_template_rows": null,
            "right": null,
            "justify_content": null,
            "_view_module": "@jupyter-widgets/base",
            "overflow": null,
            "_model_module_version": "1.2.0",
            "_view_count": null,
            "flex_flow": null,
            "width": null,
            "min_width": null,
            "border": null,
            "align_items": null,
            "bottom": null,
            "_model_module": "@jupyter-widgets/base",
            "top": null,
            "grid_column": null,
            "overflow_y": null,
            "overflow_x": null,
            "grid_auto_flow": null,
            "grid_area": null,
            "grid_template_columns": null,
            "flex": null,
            "_model_name": "LayoutModel",
            "justify_items": null,
            "grid_row": null,
            "max_height": null,
            "align_content": null,
            "visibility": null,
            "align_self": null,
            "height": null,
            "min_height": null,
            "padding": null,
            "grid_auto_rows": null,
            "grid_gap": null,
            "max_width": null,
            "order": null,
            "_view_module_version": "1.2.0",
            "grid_template_areas": null,
            "object_position": null,
            "object_fit": null,
            "grid_auto_columns": null,
            "margin": null,
            "display": null,
            "left": null
          }
        },
        "53a4df66452048bea12aab0b5fd7400b": {
          "model_module": "@jupyter-widgets/controls",
          "model_name": "IntProgressModel",
          "state": {
            "_view_name": "ProgressView",
            "style": "IPY_MODEL_21a96658b9a74b9097e96ed6f1723afc",
            "_dom_classes": [],
            "description": "100%",
            "_model_name": "IntProgressModel",
            "bar_style": "success",
            "max": 574673361,
            "_view_module": "@jupyter-widgets/controls",
            "_model_module_version": "1.5.0",
            "value": 574673361,
            "_view_count": null,
            "_view_module_version": "1.5.0",
            "orientation": "horizontal",
            "min": 0,
            "description_tooltip": null,
            "_model_module": "@jupyter-widgets/controls",
            "layout": "IPY_MODEL_b6db098492654b86b69b8800267756d1"
          }
        },
        "0ca7638dcf364133af7eb13cdb2bf1d3": {
          "model_module": "@jupyter-widgets/controls",
          "model_name": "HTMLModel",
          "state": {
            "_view_name": "HTMLView",
            "style": "IPY_MODEL_52a37ec8bb804863815f76284c534284",
            "_dom_classes": [],
            "description": "",
            "_model_name": "HTMLModel",
            "placeholder": "​",
            "_view_module": "@jupyter-widgets/controls",
            "_model_module_version": "1.5.0",
            "value": " 548M/548M [00:04&lt;00:00, 141MB/s]",
            "_view_count": null,
            "_view_module_version": "1.5.0",
            "description_tooltip": null,
            "_model_module": "@jupyter-widgets/controls",
            "layout": "IPY_MODEL_566f383ff4d944b3b2687c82b7e6081d"
          }
        },
        "21a96658b9a74b9097e96ed6f1723afc": {
          "model_module": "@jupyter-widgets/controls",
          "model_name": "ProgressStyleModel",
          "state": {
            "_view_name": "StyleView",
            "_model_name": "ProgressStyleModel",
            "description_width": "initial",
            "_view_module": "@jupyter-widgets/base",
            "_model_module_version": "1.5.0",
            "_view_count": null,
            "_view_module_version": "1.2.0",
            "bar_color": null,
            "_model_module": "@jupyter-widgets/controls"
          }
        },
        "b6db098492654b86b69b8800267756d1": {
          "model_module": "@jupyter-widgets/base",
          "model_name": "LayoutModel",
          "state": {
            "_view_name": "LayoutView",
            "grid_template_rows": null,
            "right": null,
            "justify_content": null,
            "_view_module": "@jupyter-widgets/base",
            "overflow": null,
            "_model_module_version": "1.2.0",
            "_view_count": null,
            "flex_flow": null,
            "width": null,
            "min_width": null,
            "border": null,
            "align_items": null,
            "bottom": null,
            "_model_module": "@jupyter-widgets/base",
            "top": null,
            "grid_column": null,
            "overflow_y": null,
            "overflow_x": null,
            "grid_auto_flow": null,
            "grid_area": null,
            "grid_template_columns": null,
            "flex": null,
            "_model_name": "LayoutModel",
            "justify_items": null,
            "grid_row": null,
            "max_height": null,
            "align_content": null,
            "visibility": null,
            "align_self": null,
            "height": null,
            "min_height": null,
            "padding": null,
            "grid_auto_rows": null,
            "grid_gap": null,
            "max_width": null,
            "order": null,
            "_view_module_version": "1.2.0",
            "grid_template_areas": null,
            "object_position": null,
            "object_fit": null,
            "grid_auto_columns": null,
            "margin": null,
            "display": null,
            "left": null
          }
        },
        "52a37ec8bb804863815f76284c534284": {
          "model_module": "@jupyter-widgets/controls",
          "model_name": "DescriptionStyleModel",
          "state": {
            "_view_name": "StyleView",
            "_model_name": "DescriptionStyleModel",
            "description_width": "",
            "_view_module": "@jupyter-widgets/base",
            "_model_module_version": "1.5.0",
            "_view_count": null,
            "_view_module_version": "1.2.0",
            "_model_module": "@jupyter-widgets/controls"
          }
        },
        "566f383ff4d944b3b2687c82b7e6081d": {
          "model_module": "@jupyter-widgets/base",
          "model_name": "LayoutModel",
          "state": {
            "_view_name": "LayoutView",
            "grid_template_rows": null,
            "right": null,
            "justify_content": null,
            "_view_module": "@jupyter-widgets/base",
            "overflow": null,
            "_model_module_version": "1.2.0",
            "_view_count": null,
            "flex_flow": null,
            "width": null,
            "min_width": null,
            "border": null,
            "align_items": null,
            "bottom": null,
            "_model_module": "@jupyter-widgets/base",
            "top": null,
            "grid_column": null,
            "overflow_y": null,
            "overflow_x": null,
            "grid_auto_flow": null,
            "grid_area": null,
            "grid_template_columns": null,
            "flex": null,
            "_model_name": "LayoutModel",
            "justify_items": null,
            "grid_row": null,
            "max_height": null,
            "align_content": null,
            "visibility": null,
            "align_self": null,
            "height": null,
            "min_height": null,
            "padding": null,
            "grid_auto_rows": null,
            "grid_gap": null,
            "max_width": null,
            "order": null,
            "_view_module_version": "1.2.0",
            "grid_template_areas": null,
            "object_position": null,
            "object_fit": null,
            "grid_auto_columns": null,
            "margin": null,
            "display": null,
            "left": null
          }
        }
      }
    }
  },
  "cells": [
    {
      "cell_type": "markdown",
      "metadata": {
        "id": "view-in-github",
        "colab_type": "text"
      },
      "source": [
        "<a href=\"https://colab.research.google.com/github/wdoppenberg/art-deep-transfer-learning/blob/master/Testing.ipynb\" target=\"_parent\"><img src=\"https://colab.research.google.com/assets/colab-badge.svg\" alt=\"Open In Colab\"/></a>"
      ]
    },
    {
      "cell_type": "code",
      "metadata": {
        "id": "obKMk95r1x-z",
        "colab_type": "code",
        "outputId": "517d3e9a-4daf-4fc8-8b43-fccfaec00141",
        "colab": {
          "base_uri": "https://localhost:8080/",
          "height": 121
        }
      },
      "source": [
        "from google.colab import drive\n",
        "drive.mount(\"/content/drive\", force_remount=True)"
      ],
      "execution_count": 5,
      "outputs": [
        {
          "output_type": "stream",
          "text": [
            "Go to this URL in a browser: https://accounts.google.com/o/oauth2/auth?client_id=947318989803-6bn6qk8qdgf4n4g3pfee6491hc0brc4i.apps.googleusercontent.com&redirect_uri=urn%3aietf%3awg%3aoauth%3a2.0%3aoob&response_type=code&scope=email%20https%3a%2f%2fwww.googleapis.com%2fauth%2fdocs.test%20https%3a%2f%2fwww.googleapis.com%2fauth%2fdrive%20https%3a%2f%2fwww.googleapis.com%2fauth%2fdrive.photos.readonly%20https%3a%2f%2fwww.googleapis.com%2fauth%2fpeopleapi.readonly\n",
            "\n",
            "Enter your authorization code:\n",
            "··········\n",
            "Mounted at /content/drive\n"
          ],
          "name": "stdout"
        }
      ]
    },
    {
      "cell_type": "code",
      "metadata": {
        "id": "OgrMIiUd2JDA",
        "colab_type": "code",
        "outputId": "1273b669-3162-4836-a815-0718a3da8088",
        "colab": {
          "base_uri": "https://localhost:8080/",
          "height": 34
        }
      },
      "source": [
        "cd /content/drive/My\\ Drive/Colab\\ Notebooks/cs4240-project\n"
      ],
      "execution_count": 6,
      "outputs": [
        {
          "output_type": "stream",
          "text": [
            "/content/drive/.shortcut-targets-by-id/1qYhyzoN-xaPWkyz7yLQfu4Pnb8uzG43y/cs4240-project\n"
          ],
          "name": "stdout"
        }
      ]
    },
    {
      "cell_type": "code",
      "metadata": {
        "id": "a6cqHuch-s6b",
        "colab_type": "code",
        "colab": {}
      },
      "source": [
        "DATASETS_PATH='datasets/Jap/'"
      ],
      "execution_count": 0,
      "outputs": []
    },
    {
      "cell_type": "code",
      "metadata": {
        "id": "p3k_ZE2O2VhE",
        "colab_type": "code",
        "outputId": "0845e445-2031-4ef4-ceee-9bbc0a441134",
        "colab": {
          "base_uri": "https://localhost:8080/",
          "height": 67
        }
      },
      "source": [
        "pip install -q -r requirements.txt"
      ],
      "execution_count": 8,
      "outputs": [
        {
          "output_type": "stream",
          "text": [
            "\u001b[K     |████████████████████████████████| 7.8MB 33.5MB/s \n",
            "\u001b[K     |████████████████████████████████| 61kB 10.6MB/s \n",
            "\u001b[?25h  Building wheel for efficientnet-pytorch (setup.py) ... \u001b[?25l\u001b[?25hdone\n"
          ],
          "name": "stdout"
        }
      ]
    },
    {
      "cell_type": "code",
      "metadata": {
        "id": "CtxPlyaQ2V0K",
        "colab_type": "code",
        "colab": {}
      },
      "source": [
        "from PIL import Image\n",
        "import matplotlib.pyplot as plt\n",
        "import numpy as np\n",
        "import io\n",
        "import random\n",
        "import time\n",
        "from numpy import asarray\n",
        "from numpy import savetxt\n",
        "\n",
        "import torch\n",
        "from torchvision import models, transforms\n",
        "import torch.nn as nn\n",
        "from torch.optim import SGD\n",
        "\n",
        "import h5py\n",
        "import utils\n",
        "from efficientnet_pytorch import EfficientNet\n",
        "\n"
      ],
      "execution_count": 0,
      "outputs": []
    },
    {
      "cell_type": "code",
      "metadata": {
        "id": "R8jXWpBk4EGC",
        "colab_type": "code",
        "outputId": "aaa3af99-00c9-4325-becd-989aedebf800",
        "colab": {
          "base_uri": "https://localhost:8080/",
          "height": 34
        }
      },
      "source": [
        "if torch.cuda.is_available():\n",
        "        print(f'Using GPU: {torch.cuda.get_device_name(0)}')\n",
        "else:\n",
        "        print('Using CPU')"
      ],
      "execution_count": 10,
      "outputs": [
        {
          "output_type": "stream",
          "text": [
            "Using GPU: Tesla T4\n"
          ],
          "name": "stdout"
        }
      ]
    },
    {
      "cell_type": "code",
      "metadata": {
        "id": "Wj89K-gqpHut",
        "colab_type": "code",
        "colab": {}
      },
      "source": [
        "CHECKPOINT_PATH = 'models/PyTorch/'\n",
        "test_path = DATASETS_PATH+'testing.hdf5'\n",
        "\n",
        "input_size = 224\n",
        "batch_size = 32\n",
        "\n",
        "labels = {\n",
        "    'material':'material_cat',\n",
        "    'type':'type_cat',\n",
        "    'creator':'fullname_creator_cat'\n",
        "}\n",
        "\n",
        "classes = {\n",
        "    'material':128,\n",
        "    'type':534,\n",
        "    'creator':6620\n",
        "}\n",
        "\n",
        "norm_mean = (0.485, 0.456, 0.406)\n",
        "norm_std = (0.229, 0.224, 0.225)\n",
        "\n",
        "transform = transforms.Compose([\n",
        "        transforms.Resize(input_size),\n",
        "        transforms.CenterCrop(input_size),\n",
        "        transforms.ToTensor(),\n",
        "        transforms.Normalize(norm_mean, norm_std)\n",
        "])\n",
        "\n",
        "class UnNormalize(object):\n",
        "    def __init__(self, mean, std):\n",
        "        self.mean = mean\n",
        "        self.std = std\n",
        "\n",
        "    def __call__(self, tensor):\n",
        "        for t, m, s in zip(tensor, self.mean, self.std):\n",
        "            t.mul_(s).add_(m)\n",
        "            # The normalize code -> t.sub_(m).div_(s)\n",
        "        return tensor\n",
        "\n",
        "unnormalize = UnNormalize(norm_mean, norm_std)\n",
        "\n",
        "TensorToImage = transforms.ToPILImage(mode='RGB')\n",
        "\n",
        "class HDF5Dataset(torch.utils.data.Dataset):\n",
        "    def __init__(self, path, challenge):\n",
        "        self.f = h5py.File(path, 'r')\n",
        "\n",
        "        self.n_images = len(self.f['images'])\n",
        "        self.challenge = challenge\n",
        "\n",
        "    def __getitem__(self, idx):\n",
        "        if torch.is_tensor(idx):\n",
        "            idx = idx.tolist()\n",
        "\n",
        "        return (\n",
        "            transform(\n",
        "                Image.open(\n",
        "                    io.BytesIO(self.f['images'][idx])\n",
        "                ).convert('RGB')\n",
        "            ),\n",
        "            int(self.f[self.challenge][idx])\n",
        "        )\n",
        "    \n",
        "    def random(self):\n",
        "        return self.__getitem__(\n",
        "            random.randint(0, self.n_images)\n",
        "        )\n",
        "\n",
        "    def __len__(self):\n",
        "        return self.n_images\n",
        "\n",
        "    def __del__(self):\n",
        "        self.f.close()\n",
        "\n",
        "test_dataset_creator = HDF5Dataset(test_path, labels['creator'])\n",
        "test_loader_creator = torch.utils.data.DataLoader(test_dataset_creator, batch_size=1, shuffle=True)\n",
        "test_dataset_type = HDF5Dataset(test_path, labels['type'])\n",
        "test_loader_type = torch.utils.data.DataLoader(test_dataset_type, batch_size=1, shuffle=True)\n",
        "test_dataset_material = HDF5Dataset(test_path, labels['material'])\n",
        "test_loader_material = torch.utils.data.DataLoader(test_dataset_material, batch_size=1, shuffle=True)\n"
      ],
      "execution_count": 0,
      "outputs": []
    },
    {
      "cell_type": "code",
      "metadata": {
        "id": "YX2__nyYcsQL",
        "colab_type": "code",
        "colab": {}
      },
      "source": [
        "def get_model(name, pretrained, nc):\n",
        "    if name == 'VGG19':\n",
        "        model = models.vgg19(pretrained=pretrained)\n",
        "        model.classifier[6] = nn.Linear(4096, nc)\n",
        "        return model\n",
        "\n",
        "    elif name == 'ResNet50':\n",
        "        model = models.resnet50(pretrained=pretrained)\n",
        "        model.fc = nn.Linear(2048, nc)\n",
        "        return model\n",
        "\n",
        "    elif name == 'EfficientNet':\n",
        "        if pretrained:\n",
        "            model = EfficientNet.from_pretrained('efficientnet-b7')\n",
        "        else:\n",
        "            model = EfficientNet.from_name('efficientnet-b7')\n",
        "        model._fc = nn.Linear(2560, nc)\n",
        "        return model\n",
        "    else:\n",
        "        print(f'Model called {name} not found...')"
      ],
      "execution_count": 0,
      "outputs": []
    },
    {
      "cell_type": "code",
      "metadata": {
        "colab_type": "code",
        "id": "DfflH8MSwR4L",
        "colab": {}
      },
      "source": [
        ""
      ],
      "execution_count": 0,
      "outputs": []
    },
    {
      "cell_type": "markdown",
      "metadata": {
        "id": "k8TszDf0VviJ",
        "colab_type": "text"
      },
      "source": [
        "# **Testing**\n"
      ]
    },
    {
      "cell_type": "code",
      "metadata": {
        "id": "gmRb3PizVtHR",
        "colab_type": "code",
        "outputId": "04a106be-fede-41c4-c515-c8aba24895af",
        "colab": {
          "base_uri": "https://localhost:8080/",
          "height": 84
        }
      },
      "source": [
        "savefile_name = 'EffNetFTmaterial'\n",
        "Challenges = ['material']             # ['creator', 'type', 'material']\n",
        "MODELS = ['EfficientNet']            # ['VGG19', 'ResNet50', 'EfficientNet']\n",
        "Training_modes = ['FineTuning']            # ['OffTheShelf', 'FineTuning']\n",
        "All_test_accuracy = []\n",
        "loss_function = nn.CrossEntropyLoss()\n",
        "learning_rate = 1e-3\n",
        "momentum = 0.9\n",
        "i=0\n",
        "for challenge in Challenges:\n",
        "  num_classes = classes[challenge]\n",
        "  #test_path_full=test_path+labels[challenge]\n",
        "  #print(test_path_full)\n",
        "  #print(num_classes)\n",
        "  for MODEL in MODELS:\n",
        "    for training_mode in Training_modes:\n",
        "      if training_mode == 'OffTheShelf':\n",
        "        pretrained = False\n",
        "      else:\n",
        "        pretrained = True\n",
        "      CHECKPOINT_PATH_full=CHECKPOINT_PATH+challenge+'/'+MODEL+'_'+training_mode+'_Rijks_'+challenge+'.pth'\n",
        "      #print(CHECKPOINT_PATH_full)\n",
        "      if ~torch.cuda.is_available():\n",
        "        checkpoint = torch.load(CHECKPOINT_PATH_full, map_location=torch.device('cpu'))\n",
        "      else:    \n",
        "        checkpoint = torch.load(CHECKPOINT_PATH_full)\n",
        "      model = get_model(MODEL, pretrained, num_classes)                           #model inladen uit training checkpoint\n",
        "      model.load_state_dict(checkpoint['model_state_dict'])\n",
        "      optimizer = SGD(model.parameters(), lr=learning_rate, momentum=momentum)    #optimizer inladen uit training checkpoint\n",
        "      optimizer.load_state_dict(checkpoint['optimizer_state_dict'])\n",
        "      if torch.cuda.is_available():                                               # cuda op model zetten\n",
        "        model.cuda()\n",
        "        loss_function.cuda()\n",
        "        #print(f'Using GPU: {torch.cuda.get_device_name(0)}')\n",
        "      #else:\n",
        "        #print('Using CPU')\n",
        "\n",
        "      #picking test set\n",
        "      if challenge == 'creator':\n",
        "        test_dataset = test_dataset_creator\n",
        "        test_loader = test_loader_creator\n",
        "      elif challenge == 'type':\n",
        "        test_dataset = test_dataset_type\n",
        "        test_loader = test_loader_type\n",
        "      else:\n",
        "        test_dataset = test_dataset_material\n",
        "        test_loader = test_loader_material  \n",
        "       \n",
        "\n",
        "\n",
        "      #evaluating models on test set\n",
        "      print('Begin testing on '+MODEL+' '+training_mode+' '+challenge)\n",
        "      score = 0\n",
        "      model.eval()\n",
        "      with torch.no_grad():\n",
        "          for images, labels in test_loader:\n",
        "              if torch.cuda.is_available():\n",
        "                  images, labels = images.cuda(), labels.cuda()\n",
        "              logits = model(images)\n",
        "\n",
        "              top_p, top_class = logits.topk(1, dim=1)\n",
        "              correct = top_class.squeeze() == labels\n",
        "              score += torch.sum(correct.float())\n",
        "\n",
        "      test_accuracy = score/len(test_dataset)\n",
        "      test_accuracy = test_accuracy.item() * 100\n",
        "      All_test_accuracy.append(test_accuracy)\n",
        "      print('Accuracy of '+MODEL+' '+training_mode+' '+challenge+' is:')\n",
        "      print(All_test_accuracy[i])\n",
        "      np.asarray(All_test_accuracy)\n",
        "      All_test_accuracy = All_test_accuracy\n",
        "      np.savetxt(savefile_name+'.csv', All_test_accuracy, delimiter=',', fmt='%f')\n",
        "      i=i+1\n",
        "      \n",
        "\n",
        "\n",
        "\n",
        "\n",
        "          \n",
        "\n",
        "  \n"
      ],
      "execution_count": 10,
      "outputs": [
        {
          "output_type": "stream",
          "text": [
            "Loaded pretrained weights for efficientnet-b7\n",
            "Begin testing on EfficientNet FineTuning material\n",
            "Accuracy of EfficientNet FineTuning material is:\n",
            "94.9036180973053\n"
          ],
          "name": "stdout"
        }
      ]
    },
    {
      "cell_type": "code",
      "metadata": {
        "id": "sRqbybIWIQ71",
        "colab_type": "code",
        "colab": {
          "base_uri": "https://localhost:8080/",
          "height": 34
        },
        "outputId": "c33da566-f6ad-4b24-9063-9ee0198853ca"
      },
      "source": [
        "print(All_test_accuracy)"
      ],
      "execution_count": 11,
      "outputs": [
        {
          "output_type": "stream",
          "text": [
            "[94.9036180973053]\n"
          ],
          "name": "stdout"
        }
      ]
    },
    {
      "cell_type": "markdown",
      "metadata": {
        "id": "YZei6tud1XXa",
        "colab_type": "text"
      },
      "source": [
        "# **Visual Tester**"
      ]
    },
    {
      "cell_type": "code",
      "metadata": {
        "id": "bKS-RE3z1MzU",
        "colab_type": "code",
        "colab": {}
      },
      "source": [
        "import pandas as pd\n",
        "\n",
        "metadata = pd.read_csv(DATASETS_PATH+'metadata_rijks_enc.csv')\n",
        "\n",
        "df_material = metadata[['material', 'material_cat']].copy()\n",
        "df_material.drop_duplicates(inplace=True)\n",
        "df_material.columns = ['string', 'label']\n",
        "\n",
        "df_type = metadata[['type', 'type_cat']].copy()\n",
        "df_type.drop_duplicates(inplace=True)\n",
        "df_type.columns = ['string', 'label']\n",
        "\n",
        "df_creator = metadata[['fullname_creator', 'fullname_creator_cat']].copy()\n",
        "df_creator.drop_duplicates(inplace=True)\n",
        "df_creator.columns = ['string', 'label']\n",
        "\n",
        "dict_labels = dict(material=df_material, type=df_type, creator=df_creator)"
      ],
      "execution_count": 0,
      "outputs": []
    },
    {
      "cell_type": "code",
      "metadata": {
        "id": "Cd3SGyz_10Ed",
        "colab_type": "code",
        "outputId": "81b74270-215e-47d7-9ecc-91f749d7dbae",
        "colab": {
          "base_uri": "https://localhost:8080/",
          "height": 99,
          "referenced_widgets": [
            "2b631621febd4b9eba3a6408ffd5c9cc",
            "80b54b50fd3e4c97968bfd02b966a581",
            "53a4df66452048bea12aab0b5fd7400b",
            "0ca7638dcf364133af7eb13cdb2bf1d3",
            "21a96658b9a74b9097e96ed6f1723afc",
            "b6db098492654b86b69b8800267756d1",
            "52a37ec8bb804863815f76284c534284",
            "566f383ff4d944b3b2687c82b7e6081d"
          ]
        }
      },
      "source": [
        "# pick model\n",
        "challenge = 'type'\n",
        "MODEL = 'VGG19'\n",
        "training_mode = 'FineTuning'\n",
        "\n",
        "# load model\n",
        "loss_function = nn.CrossEntropyLoss()\n",
        "learning_rate = 1e-3\n",
        "momentum = 0.9\n",
        "num_classes = classes[challenge]\n",
        "if training_mode == 'OffTheShelf':\n",
        "  pretrained = False\n",
        "else:\n",
        "  pretrained = True\n",
        "model = get_model(MODEL, pretrained, num_classes)\n",
        "\n",
        "# load checkpoint\n",
        "CHECKPOINT_PATH_full=CHECKPOINT_PATH+challenge+'/'+MODEL+'_'+training_mode+'_Rijks_'+challenge+'.pth'\n",
        "print(CHECKPOINT_PATH_full)\n",
        "if ~torch.cuda.is_available():\n",
        "  checkpoint = torch.load(CHECKPOINT_PATH_full, map_location=torch.device('cpu'))\n",
        "else:    \n",
        "  checkpoint = torch.load(CHECKPOINT_PATH_full)\n",
        "\n",
        "model.load_state_dict(checkpoint['model_state_dict'])\n",
        "optimizer = SGD(model.parameters(), lr=learning_rate, momentum=momentum)    #optimizer inladen uit training checkpoint\n",
        "optimizer.load_state_dict(checkpoint['optimizer_state_dict'])\n",
        "if torch.cuda.is_available():                                               # cuda op model zetten\n",
        " model.cuda()\n",
        " loss_function.cuda()\n",
        "\n",
        "# load test set\n",
        "if challenge == 'creator':\n",
        "  test_dataset = test_dataset_creator\n",
        "  test_loader = test_loader_creator\n",
        "elif challenge == 'type':\n",
        "  test_dataset = test_dataset_type\n",
        "  test_loader = test_loader_type\n",
        "else:\n",
        "  test_dataset = test_dataset_material\n",
        "  test_loader = test_loader_material  \n",
        "\n",
        "\n"
      ],
      "execution_count": 17,
      "outputs": [
        {
          "output_type": "stream",
          "text": [
            "Downloading: \"https://download.pytorch.org/models/vgg19-dcbb9e9d.pth\" to /root/.cache/torch/checkpoints/vgg19-dcbb9e9d.pth\n"
          ],
          "name": "stderr"
        },
        {
          "output_type": "display_data",
          "data": {
            "application/vnd.jupyter.widget-view+json": {
              "model_id": "2b631621febd4b9eba3a6408ffd5c9cc",
              "version_minor": 0,
              "version_major": 2
            },
            "text/plain": [
              "HBox(children=(IntProgress(value=0, max=574673361), HTML(value='')))"
            ]
          },
          "metadata": {
            "tags": []
          }
        },
        {
          "output_type": "stream",
          "text": [
            "\n",
            "models/PyTorch/type/VGG19_FineTuning_Rijks_type.pth\n"
          ],
          "name": "stdout"
        }
      ]
    },
    {
      "cell_type": "code",
      "metadata": {
        "id": "SM3NLT0M1ODk",
        "colab_type": "code",
        "outputId": "e6bf1f35-fef8-4a31-de9b-611d32e3dd65",
        "colab": {
          "base_uri": "https://localhost:8080/",
          "height": 292
        }
      },
      "source": [
        "image, label = next(iter(test_loader))\n",
        "if torch.cuda.is_available():\n",
        "    image, label = image.cuda(), label.cuda()\n",
        "model.eval()\n",
        "\n",
        "logits = model(image)\n",
        "ground_truth = label.item()\n",
        "prediction = logits.argmax(dim=1).item() \n",
        "\n",
        "df = dict_labels[challenge]\n",
        "gt_string = df[df['label']==ground_truth]['string'].item()\n",
        "pred_string = df[df['label']==prediction]['string'].item()\n",
        "corr = 'Correct!' if prediction==ground_truth else 'Incorrect.'\n",
        "print(\n",
        "    f'Ground truth: [{ground_truth}] {gt_string}\\n'\n",
        "    f'Prediction: [{prediction}] {pred_string}\\n'+\n",
        "    corr\n",
        ")\n",
        "TensorToImage(unnormalize(image[0].cpu()))"
      ],
      "execution_count": 0,
      "outputs": [
        {
          "output_type": "stream",
          "text": [
            "Ground truth: [387] schilderij\n",
            "Prediction: [387] schilderij\n",
            "Correct!\n"
          ],
          "name": "stdout"
        },
        {
          "output_type": "execute_result",
          "data": {
            "image/png": "[encoded data removed]",
            "text/plain": [
              "<PIL.Image.Image image mode=RGB size=224x224 at 0x7F0A1BEDB6D8>"
            ]
          },
          "metadata": {
            "tags": []
          },
          "execution_count": 59
        }
      ]
    },
    {
      "cell_type": "code",
      "metadata": {
        "id": "j5tHqYzcEJmg",
        "colab_type": "code",
        "outputId": "e5dc6802-f545-4035-99d0-0596ab47679f",
        "colab": {
          "base_uri": "https://localhost:8080/",
          "height": 34
        }
      },
      "source": [
        "def count_parameters(model):\n",
        "    return sum(p.numel() for p in model.parameters() if p.requires_grad)\n",
        "count_parameters(model)"
      ],
      "execution_count": 18,
      "outputs": [
        {
          "output_type": "execute_result",
          "data": {
            "text/plain": [
              "141758038"
            ]
          },
          "metadata": {
            "tags": []
          },
          "execution_count": 18
        }
      ]
    },
    {
      "cell_type": "code",
      "metadata": {
        "id": "5nZgqBjqT7Yh",
        "colab_type": "code",
        "colab": {
          "base_uri": "https://localhost:8080/",
          "height": 337
        },
        "outputId": "1ab89d0b-5be1-41a0-ca1a-f8f8f64e5d41"
      },
      "source": [
        "def pytorch_count_params(model):\n",
        "  \"count number trainable parameters in a pytorch model\"\n",
        "  total_params = sum(reduce( lambda a, b: a*b, x.size()) for x in model.parameters())\n",
        "  return total_params\n",
        "pytorch_count_params(model)"
      ],
      "execution_count": 15,
      "outputs": [
        {
          "output_type": "error",
          "ename": "NameError",
          "evalue": "ignored",
          "traceback": [
            "\u001b[0;31m---------------------------------------------------------------------------\u001b[0m",
            "\u001b[0;31mNameError\u001b[0m                                 Traceback (most recent call last)",
            "\u001b[0;32m<ipython-input-15-686356a70270>\u001b[0m in \u001b[0;36m<module>\u001b[0;34m()\u001b[0m\n\u001b[1;32m      3\u001b[0m   \u001b[0mtotal_params\u001b[0m \u001b[0;34m=\u001b[0m \u001b[0msum\u001b[0m\u001b[0;34m(\u001b[0m\u001b[0mreduce\u001b[0m\u001b[0;34m(\u001b[0m \u001b[0;32mlambda\u001b[0m \u001b[0ma\u001b[0m\u001b[0;34m,\u001b[0m \u001b[0mb\u001b[0m\u001b[0;34m:\u001b[0m \u001b[0ma\u001b[0m\u001b[0;34m*\u001b[0m\u001b[0mb\u001b[0m\u001b[0;34m,\u001b[0m \u001b[0mx\u001b[0m\u001b[0;34m.\u001b[0m\u001b[0msize\u001b[0m\u001b[0;34m(\u001b[0m\u001b[0;34m)\u001b[0m\u001b[0;34m)\u001b[0m \u001b[0;32mfor\u001b[0m \u001b[0mx\u001b[0m \u001b[0;32min\u001b[0m \u001b[0mmodel\u001b[0m\u001b[0;34m.\u001b[0m\u001b[0mparameters\u001b[0m\u001b[0;34m(\u001b[0m\u001b[0;34m)\u001b[0m\u001b[0;34m)\u001b[0m\u001b[0;34m\u001b[0m\u001b[0;34m\u001b[0m\u001b[0m\n\u001b[1;32m      4\u001b[0m   \u001b[0;32mreturn\u001b[0m \u001b[0mtotal_params\u001b[0m\u001b[0;34m\u001b[0m\u001b[0;34m\u001b[0m\u001b[0m\n\u001b[0;32m----> 5\u001b[0;31m \u001b[0mpytorch_count_params\u001b[0m\u001b[0;34m(\u001b[0m\u001b[0mmodel\u001b[0m\u001b[0;34m)\u001b[0m\u001b[0;34m\u001b[0m\u001b[0;34m\u001b[0m\u001b[0m\n\u001b[0m",
            "\u001b[0;32m<ipython-input-15-686356a70270>\u001b[0m in \u001b[0;36mpytorch_count_params\u001b[0;34m(model)\u001b[0m\n\u001b[1;32m      1\u001b[0m \u001b[0;32mdef\u001b[0m \u001b[0mpytorch_count_params\u001b[0m\u001b[0;34m(\u001b[0m\u001b[0mmodel\u001b[0m\u001b[0;34m)\u001b[0m\u001b[0;34m:\u001b[0m\u001b[0;34m\u001b[0m\u001b[0;34m\u001b[0m\u001b[0m\n\u001b[1;32m      2\u001b[0m   \u001b[0;34m\"count number trainable parameters in a pytorch model\"\u001b[0m\u001b[0;34m\u001b[0m\u001b[0;34m\u001b[0m\u001b[0m\n\u001b[0;32m----> 3\u001b[0;31m   \u001b[0mtotal_params\u001b[0m \u001b[0;34m=\u001b[0m \u001b[0msum\u001b[0m\u001b[0;34m(\u001b[0m\u001b[0mreduce\u001b[0m\u001b[0;34m(\u001b[0m \u001b[0;32mlambda\u001b[0m \u001b[0ma\u001b[0m\u001b[0;34m,\u001b[0m \u001b[0mb\u001b[0m\u001b[0;34m:\u001b[0m \u001b[0ma\u001b[0m\u001b[0;34m*\u001b[0m\u001b[0mb\u001b[0m\u001b[0;34m,\u001b[0m \u001b[0mx\u001b[0m\u001b[0;34m.\u001b[0m\u001b[0msize\u001b[0m\u001b[0;34m(\u001b[0m\u001b[0;34m)\u001b[0m\u001b[0;34m)\u001b[0m \u001b[0;32mfor\u001b[0m \u001b[0mx\u001b[0m \u001b[0;32min\u001b[0m \u001b[0mmodel\u001b[0m\u001b[0;34m.\u001b[0m\u001b[0mparameters\u001b[0m\u001b[0;34m(\u001b[0m\u001b[0;34m)\u001b[0m\u001b[0;34m)\u001b[0m\u001b[0;34m\u001b[0m\u001b[0;34m\u001b[0m\u001b[0m\n\u001b[0m\u001b[1;32m      4\u001b[0m   \u001b[0;32mreturn\u001b[0m \u001b[0mtotal_params\u001b[0m\u001b[0;34m\u001b[0m\u001b[0;34m\u001b[0m\u001b[0m\n\u001b[1;32m      5\u001b[0m \u001b[0mpytorch_count_params\u001b[0m\u001b[0;34m(\u001b[0m\u001b[0mmodel\u001b[0m\u001b[0;34m)\u001b[0m\u001b[0;34m\u001b[0m\u001b[0;34m\u001b[0m\u001b[0m\n",
            "\u001b[0;32m<ipython-input-15-686356a70270>\u001b[0m in \u001b[0;36m<genexpr>\u001b[0;34m(.0)\u001b[0m\n\u001b[1;32m      1\u001b[0m \u001b[0;32mdef\u001b[0m \u001b[0mpytorch_count_params\u001b[0m\u001b[0;34m(\u001b[0m\u001b[0mmodel\u001b[0m\u001b[0;34m)\u001b[0m\u001b[0;34m:\u001b[0m\u001b[0;34m\u001b[0m\u001b[0;34m\u001b[0m\u001b[0m\n\u001b[1;32m      2\u001b[0m   \u001b[0;34m\"count number trainable parameters in a pytorch model\"\u001b[0m\u001b[0;34m\u001b[0m\u001b[0;34m\u001b[0m\u001b[0m\n\u001b[0;32m----> 3\u001b[0;31m   \u001b[0mtotal_params\u001b[0m \u001b[0;34m=\u001b[0m \u001b[0msum\u001b[0m\u001b[0;34m(\u001b[0m\u001b[0mreduce\u001b[0m\u001b[0;34m(\u001b[0m \u001b[0;32mlambda\u001b[0m \u001b[0ma\u001b[0m\u001b[0;34m,\u001b[0m \u001b[0mb\u001b[0m\u001b[0;34m:\u001b[0m \u001b[0ma\u001b[0m\u001b[0;34m*\u001b[0m\u001b[0mb\u001b[0m\u001b[0;34m,\u001b[0m \u001b[0mx\u001b[0m\u001b[0;34m.\u001b[0m\u001b[0msize\u001b[0m\u001b[0;34m(\u001b[0m\u001b[0;34m)\u001b[0m\u001b[0;34m)\u001b[0m \u001b[0;32mfor\u001b[0m \u001b[0mx\u001b[0m \u001b[0;32min\u001b[0m \u001b[0mmodel\u001b[0m\u001b[0;34m.\u001b[0m\u001b[0mparameters\u001b[0m\u001b[0;34m(\u001b[0m\u001b[0;34m)\u001b[0m\u001b[0;34m)\u001b[0m\u001b[0;34m\u001b[0m\u001b[0;34m\u001b[0m\u001b[0m\n\u001b[0m\u001b[1;32m      4\u001b[0m   \u001b[0;32mreturn\u001b[0m \u001b[0mtotal_params\u001b[0m\u001b[0;34m\u001b[0m\u001b[0;34m\u001b[0m\u001b[0m\n\u001b[1;32m      5\u001b[0m \u001b[0mpytorch_count_params\u001b[0m\u001b[0;34m(\u001b[0m\u001b[0mmodel\u001b[0m\u001b[0;34m)\u001b[0m\u001b[0;34m\u001b[0m\u001b[0;34m\u001b[0m\u001b[0m\n",
            "\u001b[0;31mNameError\u001b[0m: name 'reduce' is not defined"
          ]
        }
      ]
    }
  ]
}